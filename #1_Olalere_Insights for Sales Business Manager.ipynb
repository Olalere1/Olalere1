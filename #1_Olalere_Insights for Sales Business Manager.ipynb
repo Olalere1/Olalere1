{
 "cells": [
  {
   "cell_type": "markdown",
   "id": "01af30d1",
   "metadata": {},
   "source": [
    "# Objectives of the task"
   ]
  },
  {
   "cell_type": "code",
   "execution_count": 1,
   "id": "9f16eaab",
   "metadata": {},
   "outputs": [],
   "source": [
    "# Problem Statement 1: As a business manager in a superstore, \n",
    "# what are the weak areas that need to be improved on to make more profits?\n",
    "\n",
    "#Problem Statement 2: What other business problems can be derived from this data set?"
   ]
  },
  {
   "cell_type": "markdown",
   "id": "c5a0582f",
   "metadata": {},
   "source": [
    "# Importing relevant Python Libraries"
   ]
  },
  {
   "cell_type": "code",
   "execution_count": 2,
   "id": "634927a7",
   "metadata": {},
   "outputs": [],
   "source": [
    "# importing all the useful packages that will enhance our exploration and \n",
    "# understanding of the dataset to generate useful insights.\n",
    "\n",
    "import pandas as pd\n",
    "import numpy as np\n",
    "\n",
    "import matplotlib\n",
    "import matplotlib.pyplot as plt\n",
    "%matplotlib inline\n",
    "pd.plotting.register_matplotlib_converters()\n",
    "\n",
    "import seaborn as sns\n",
    "sns.set(style = \"ticks\")\n",
    "from scipy.stats import kendalltau # Used for performing a correlation test between varaibles in hexbin"
   ]
  },
  {
   "cell_type": "markdown",
   "id": "64aa6e4f",
   "metadata": {},
   "source": [
    "# Importing the dataset and Pre-processing"
   ]
  },
  {
   "cell_type": "code",
   "execution_count": 3,
   "id": "e1a8c440",
   "metadata": {},
   "outputs": [
    {
     "data": {
      "text/html": [
       "<div>\n",
       "<style scoped>\n",
       "    .dataframe tbody tr th:only-of-type {\n",
       "        vertical-align: middle;\n",
       "    }\n",
       "\n",
       "    .dataframe tbody tr th {\n",
       "        vertical-align: top;\n",
       "    }\n",
       "\n",
       "    .dataframe thead th {\n",
       "        text-align: right;\n",
       "    }\n",
       "</style>\n",
       "<table border=\"1\" class=\"dataframe\">\n",
       "  <thead>\n",
       "    <tr style=\"text-align: right;\">\n",
       "      <th></th>\n",
       "      <th>Ship Mode</th>\n",
       "      <th>Segment</th>\n",
       "      <th>Country</th>\n",
       "      <th>City</th>\n",
       "      <th>State</th>\n",
       "      <th>Postal Code</th>\n",
       "      <th>Region</th>\n",
       "      <th>Category</th>\n",
       "      <th>Sub-Category</th>\n",
       "      <th>Sales</th>\n",
       "      <th>Quantity</th>\n",
       "      <th>Discount</th>\n",
       "      <th>Profit</th>\n",
       "    </tr>\n",
       "  </thead>\n",
       "  <tbody>\n",
       "    <tr>\n",
       "      <th>0</th>\n",
       "      <td>Second Class</td>\n",
       "      <td>Consumer</td>\n",
       "      <td>United States</td>\n",
       "      <td>Henderson</td>\n",
       "      <td>Kentucky</td>\n",
       "      <td>42420</td>\n",
       "      <td>South</td>\n",
       "      <td>Furniture</td>\n",
       "      <td>Bookcases</td>\n",
       "      <td>261.9600</td>\n",
       "      <td>2</td>\n",
       "      <td>0.00</td>\n",
       "      <td>41.9136</td>\n",
       "    </tr>\n",
       "    <tr>\n",
       "      <th>1</th>\n",
       "      <td>Second Class</td>\n",
       "      <td>Consumer</td>\n",
       "      <td>United States</td>\n",
       "      <td>Henderson</td>\n",
       "      <td>Kentucky</td>\n",
       "      <td>42420</td>\n",
       "      <td>South</td>\n",
       "      <td>Furniture</td>\n",
       "      <td>Chairs</td>\n",
       "      <td>731.9400</td>\n",
       "      <td>3</td>\n",
       "      <td>0.00</td>\n",
       "      <td>219.5820</td>\n",
       "    </tr>\n",
       "    <tr>\n",
       "      <th>2</th>\n",
       "      <td>Second Class</td>\n",
       "      <td>Corporate</td>\n",
       "      <td>United States</td>\n",
       "      <td>Los Angeles</td>\n",
       "      <td>California</td>\n",
       "      <td>90036</td>\n",
       "      <td>West</td>\n",
       "      <td>Office Supplies</td>\n",
       "      <td>Labels</td>\n",
       "      <td>14.6200</td>\n",
       "      <td>2</td>\n",
       "      <td>0.00</td>\n",
       "      <td>6.8714</td>\n",
       "    </tr>\n",
       "    <tr>\n",
       "      <th>3</th>\n",
       "      <td>Standard Class</td>\n",
       "      <td>Consumer</td>\n",
       "      <td>United States</td>\n",
       "      <td>Fort Lauderdale</td>\n",
       "      <td>Florida</td>\n",
       "      <td>33311</td>\n",
       "      <td>South</td>\n",
       "      <td>Furniture</td>\n",
       "      <td>Tables</td>\n",
       "      <td>957.5775</td>\n",
       "      <td>5</td>\n",
       "      <td>0.45</td>\n",
       "      <td>-383.0310</td>\n",
       "    </tr>\n",
       "    <tr>\n",
       "      <th>4</th>\n",
       "      <td>Standard Class</td>\n",
       "      <td>Consumer</td>\n",
       "      <td>United States</td>\n",
       "      <td>Fort Lauderdale</td>\n",
       "      <td>Florida</td>\n",
       "      <td>33311</td>\n",
       "      <td>South</td>\n",
       "      <td>Office Supplies</td>\n",
       "      <td>Storage</td>\n",
       "      <td>22.3680</td>\n",
       "      <td>2</td>\n",
       "      <td>0.20</td>\n",
       "      <td>2.5164</td>\n",
       "    </tr>\n",
       "  </tbody>\n",
       "</table>\n",
       "</div>"
      ],
      "text/plain": [
       "        Ship Mode    Segment        Country             City       State  \\\n",
       "0    Second Class   Consumer  United States        Henderson    Kentucky   \n",
       "1    Second Class   Consumer  United States        Henderson    Kentucky   \n",
       "2    Second Class  Corporate  United States      Los Angeles  California   \n",
       "3  Standard Class   Consumer  United States  Fort Lauderdale     Florida   \n",
       "4  Standard Class   Consumer  United States  Fort Lauderdale     Florida   \n",
       "\n",
       "   Postal Code Region         Category Sub-Category     Sales  Quantity  \\\n",
       "0        42420  South        Furniture    Bookcases  261.9600         2   \n",
       "1        42420  South        Furniture       Chairs  731.9400         3   \n",
       "2        90036   West  Office Supplies       Labels   14.6200         2   \n",
       "3        33311  South        Furniture       Tables  957.5775         5   \n",
       "4        33311  South  Office Supplies      Storage   22.3680         2   \n",
       "\n",
       "   Discount    Profit  \n",
       "0      0.00   41.9136  \n",
       "1      0.00  219.5820  \n",
       "2      0.00    6.8714  \n",
       "3      0.45 -383.0310  \n",
       "4      0.20    2.5164  "
      ]
     },
     "execution_count": 3,
     "metadata": {},
     "output_type": "execute_result"
    }
   ],
   "source": [
    "# Importing the csv dataset into the notebook\n",
    "\n",
    "url = \"SampleSuperstore.csv\"\n",
    "superstore_data = pd.read_csv(url)\n",
    "\n",
    "superstore_data.head()"
   ]
  },
  {
   "cell_type": "code",
   "execution_count": 4,
   "id": "b19f860d",
   "metadata": {},
   "outputs": [
    {
     "name": "stdout",
     "output_type": "stream",
     "text": [
      "<class 'pandas.core.frame.DataFrame'>\n",
      "RangeIndex: 9994 entries, 0 to 9993\n",
      "Data columns (total 13 columns):\n",
      " #   Column        Non-Null Count  Dtype  \n",
      "---  ------        --------------  -----  \n",
      " 0   Ship Mode     9994 non-null   object \n",
      " 1   Segment       9994 non-null   object \n",
      " 2   Country       9994 non-null   object \n",
      " 3   City          9994 non-null   object \n",
      " 4   State         9994 non-null   object \n",
      " 5   Postal Code   9994 non-null   int64  \n",
      " 6   Region        9994 non-null   object \n",
      " 7   Category      9994 non-null   object \n",
      " 8   Sub-Category  9994 non-null   object \n",
      " 9   Sales         9994 non-null   float64\n",
      " 10  Quantity      9994 non-null   int64  \n",
      " 11  Discount      9994 non-null   float64\n",
      " 12  Profit        9994 non-null   float64\n",
      "dtypes: float64(3), int64(2), object(8)\n",
      "memory usage: 1015.1+ KB\n"
     ]
    }
   ],
   "source": [
    "# Preliminary observation of dataset, especially for extent of missing entries\n",
    "\n",
    "superstore_data.info()\n"
   ]
  },
  {
   "cell_type": "code",
   "execution_count": 5,
   "id": "1c12224d",
   "metadata": {},
   "outputs": [
    {
     "data": {
      "text/html": [
       "<div>\n",
       "<style scoped>\n",
       "    .dataframe tbody tr th:only-of-type {\n",
       "        vertical-align: middle;\n",
       "    }\n",
       "\n",
       "    .dataframe tbody tr th {\n",
       "        vertical-align: top;\n",
       "    }\n",
       "\n",
       "    .dataframe thead th {\n",
       "        text-align: right;\n",
       "    }\n",
       "</style>\n",
       "<table border=\"1\" class=\"dataframe\">\n",
       "  <thead>\n",
       "    <tr style=\"text-align: right;\">\n",
       "      <th></th>\n",
       "      <th>Ship Mode</th>\n",
       "      <th>Segment</th>\n",
       "      <th>Country</th>\n",
       "      <th>City</th>\n",
       "      <th>State</th>\n",
       "      <th>Postal Code</th>\n",
       "      <th>Region</th>\n",
       "      <th>Category</th>\n",
       "      <th>Sub-Category</th>\n",
       "      <th>Sales</th>\n",
       "      <th>Quantity</th>\n",
       "      <th>Discount</th>\n",
       "      <th>Profit</th>\n",
       "      <th>Profit_perQuantity</th>\n",
       "    </tr>\n",
       "  </thead>\n",
       "  <tbody>\n",
       "    <tr>\n",
       "      <th>0</th>\n",
       "      <td>Second Class</td>\n",
       "      <td>Consumer</td>\n",
       "      <td>United States</td>\n",
       "      <td>Henderson</td>\n",
       "      <td>Kentucky</td>\n",
       "      <td>42420</td>\n",
       "      <td>South</td>\n",
       "      <td>Furniture</td>\n",
       "      <td>Bookcases</td>\n",
       "      <td>261.9600</td>\n",
       "      <td>2</td>\n",
       "      <td>0.00</td>\n",
       "      <td>41.9136</td>\n",
       "      <td>20.9568</td>\n",
       "    </tr>\n",
       "    <tr>\n",
       "      <th>1</th>\n",
       "      <td>Second Class</td>\n",
       "      <td>Consumer</td>\n",
       "      <td>United States</td>\n",
       "      <td>Henderson</td>\n",
       "      <td>Kentucky</td>\n",
       "      <td>42420</td>\n",
       "      <td>South</td>\n",
       "      <td>Furniture</td>\n",
       "      <td>Chairs</td>\n",
       "      <td>731.9400</td>\n",
       "      <td>3</td>\n",
       "      <td>0.00</td>\n",
       "      <td>219.5820</td>\n",
       "      <td>73.1940</td>\n",
       "    </tr>\n",
       "    <tr>\n",
       "      <th>2</th>\n",
       "      <td>Second Class</td>\n",
       "      <td>Corporate</td>\n",
       "      <td>United States</td>\n",
       "      <td>Los Angeles</td>\n",
       "      <td>California</td>\n",
       "      <td>90036</td>\n",
       "      <td>West</td>\n",
       "      <td>Office Supplies</td>\n",
       "      <td>Labels</td>\n",
       "      <td>14.6200</td>\n",
       "      <td>2</td>\n",
       "      <td>0.00</td>\n",
       "      <td>6.8714</td>\n",
       "      <td>3.4357</td>\n",
       "    </tr>\n",
       "    <tr>\n",
       "      <th>3</th>\n",
       "      <td>Standard Class</td>\n",
       "      <td>Consumer</td>\n",
       "      <td>United States</td>\n",
       "      <td>Fort Lauderdale</td>\n",
       "      <td>Florida</td>\n",
       "      <td>33311</td>\n",
       "      <td>South</td>\n",
       "      <td>Furniture</td>\n",
       "      <td>Tables</td>\n",
       "      <td>957.5775</td>\n",
       "      <td>5</td>\n",
       "      <td>0.45</td>\n",
       "      <td>-383.0310</td>\n",
       "      <td>-76.6062</td>\n",
       "    </tr>\n",
       "    <tr>\n",
       "      <th>4</th>\n",
       "      <td>Standard Class</td>\n",
       "      <td>Consumer</td>\n",
       "      <td>United States</td>\n",
       "      <td>Fort Lauderdale</td>\n",
       "      <td>Florida</td>\n",
       "      <td>33311</td>\n",
       "      <td>South</td>\n",
       "      <td>Office Supplies</td>\n",
       "      <td>Storage</td>\n",
       "      <td>22.3680</td>\n",
       "      <td>2</td>\n",
       "      <td>0.20</td>\n",
       "      <td>2.5164</td>\n",
       "      <td>1.2582</td>\n",
       "    </tr>\n",
       "  </tbody>\n",
       "</table>\n",
       "</div>"
      ],
      "text/plain": [
       "        Ship Mode    Segment        Country             City       State  \\\n",
       "0    Second Class   Consumer  United States        Henderson    Kentucky   \n",
       "1    Second Class   Consumer  United States        Henderson    Kentucky   \n",
       "2    Second Class  Corporate  United States      Los Angeles  California   \n",
       "3  Standard Class   Consumer  United States  Fort Lauderdale     Florida   \n",
       "4  Standard Class   Consumer  United States  Fort Lauderdale     Florida   \n",
       "\n",
       "   Postal Code Region         Category Sub-Category     Sales  Quantity  \\\n",
       "0        42420  South        Furniture    Bookcases  261.9600         2   \n",
       "1        42420  South        Furniture       Chairs  731.9400         3   \n",
       "2        90036   West  Office Supplies       Labels   14.6200         2   \n",
       "3        33311  South        Furniture       Tables  957.5775         5   \n",
       "4        33311  South  Office Supplies      Storage   22.3680         2   \n",
       "\n",
       "   Discount    Profit  Profit_perQuantity  \n",
       "0      0.00   41.9136             20.9568  \n",
       "1      0.00  219.5820             73.1940  \n",
       "2      0.00    6.8714              3.4357  \n",
       "3      0.45 -383.0310            -76.6062  \n",
       "4      0.20    2.5164              1.2582  "
      ]
     },
     "execution_count": 5,
     "metadata": {},
     "output_type": "execute_result"
    }
   ],
   "source": [
    "#Measure variables; Sales, Quantity, Discount, Profit, (Profit/Quantity)\n",
    "\n",
    "# Creating calculated fields from existing variables to provide more salient insights\n",
    "superstore_data[\"Profit_perQuantity\"] = superstore_data.Profit / superstore_data.Quantity\n",
    "\n",
    "superstore_data.head()\n"
   ]
  },
  {
   "cell_type": "code",
   "execution_count": 6,
   "id": "c9b865d3",
   "metadata": {},
   "outputs": [],
   "source": [
    "#rolling up the dataset in (categorical) groups for preliminary analysis\n",
    "\n",
    "ShipMode_grouped = superstore_data.groupby(\"Ship Mode\")\n",
    "Segment_grouped = superstore_data.groupby(\"Segment\")\n",
    "\n",
    "City_grouped = superstore_data.groupby(\"City\")\n",
    "State_grouped = superstore_data.groupby(\"State\")\n",
    "Region_grouped = superstore_data.groupby(\"Region\")\n",
    "\n",
    "Category_grouped = superstore_data.groupby(\"Category\")\n",
    "Subcategory_grouped = superstore_data.groupby(\"Sub-Category\")\n"
   ]
  },
  {
   "cell_type": "markdown",
   "id": "4e051eb9",
   "metadata": {},
   "source": [
    "# Tabular description of dataset"
   ]
  },
  {
   "cell_type": "code",
   "execution_count": 7,
   "id": "ae6e2740",
   "metadata": {},
   "outputs": [
    {
     "data": {
      "text/html": [
       "<div>\n",
       "<style scoped>\n",
       "    .dataframe tbody tr th:only-of-type {\n",
       "        vertical-align: middle;\n",
       "    }\n",
       "\n",
       "    .dataframe tbody tr th {\n",
       "        vertical-align: top;\n",
       "    }\n",
       "\n",
       "    .dataframe thead th {\n",
       "        text-align: right;\n",
       "    }\n",
       "</style>\n",
       "<table border=\"1\" class=\"dataframe\">\n",
       "  <thead>\n",
       "    <tr style=\"text-align: right;\">\n",
       "      <th></th>\n",
       "      <th>count_nonzero</th>\n",
       "      <th>mean</th>\n",
       "      <th>amax</th>\n",
       "      <th>amin</th>\n",
       "    </tr>\n",
       "    <tr>\n",
       "      <th>Ship Mode</th>\n",
       "      <th></th>\n",
       "      <th></th>\n",
       "      <th></th>\n",
       "      <th></th>\n",
       "    </tr>\n",
       "  </thead>\n",
       "  <tbody>\n",
       "    <tr>\n",
       "      <th>First Class</th>\n",
       "      <td>1528</td>\n",
       "      <td>31.839948</td>\n",
       "      <td>6719.9808</td>\n",
       "      <td>-2639.9912</td>\n",
       "    </tr>\n",
       "    <tr>\n",
       "      <th>Second Class</th>\n",
       "      <td>1937</td>\n",
       "      <td>29.535545</td>\n",
       "      <td>2799.9840</td>\n",
       "      <td>-1862.3124</td>\n",
       "    </tr>\n",
       "    <tr>\n",
       "      <th>Same Day</th>\n",
       "      <td>542</td>\n",
       "      <td>29.266591</td>\n",
       "      <td>2229.0240</td>\n",
       "      <td>-3839.9904</td>\n",
       "    </tr>\n",
       "    <tr>\n",
       "      <th>Standard Class</th>\n",
       "      <td>5922</td>\n",
       "      <td>27.494770</td>\n",
       "      <td>8399.9760</td>\n",
       "      <td>-6599.9780</td>\n",
       "    </tr>\n",
       "  </tbody>\n",
       "</table>\n",
       "</div>"
      ],
      "text/plain": [
       "                count_nonzero       mean       amax       amin\n",
       "Ship Mode                                                     \n",
       "First Class              1528  31.839948  6719.9808 -2639.9912\n",
       "Second Class             1937  29.535545  2799.9840 -1862.3124\n",
       "Same Day                  542  29.266591  2229.0240 -3839.9904\n",
       "Standard Class           5922  27.494770  8399.9760 -6599.9780"
      ]
     },
     "execution_count": 7,
     "metadata": {},
     "output_type": "execute_result"
    }
   ],
   "source": [
    "pd.set_option('max_rows', 10)\n",
    "\n",
    "ShipMode_grouped['Profit'].agg([np.count_nonzero, np.mean,np.max, np.min]).sort_values(by = 'mean', ascending = False)"
   ]
  },
  {
   "cell_type": "code",
   "execution_count": 8,
   "id": "e2956273",
   "metadata": {},
   "outputs": [],
   "source": [
    "                            #Interpretation\n",
    "\n",
    "# Our judgement of the Shipping Mode in relation to profitability should not only be based on the average profit\n",
    "# But also on the variation of profitability (maximum/minimum profits)\n",
    "\n",
    "# The visualization below will explain this concept much better."
   ]
  },
  {
   "cell_type": "code",
   "execution_count": 9,
   "id": "1f8a2e15",
   "metadata": {},
   "outputs": [
    {
     "data": {
      "text/html": [
       "<div>\n",
       "<style scoped>\n",
       "    .dataframe tbody tr th:only-of-type {\n",
       "        vertical-align: middle;\n",
       "    }\n",
       "\n",
       "    .dataframe tbody tr th {\n",
       "        vertical-align: top;\n",
       "    }\n",
       "\n",
       "    .dataframe thead th {\n",
       "        text-align: right;\n",
       "    }\n",
       "</style>\n",
       "<table border=\"1\" class=\"dataframe\">\n",
       "  <thead>\n",
       "    <tr style=\"text-align: right;\">\n",
       "      <th></th>\n",
       "      <th>count_nonzero</th>\n",
       "      <th>mean</th>\n",
       "      <th>amax</th>\n",
       "      <th>amin</th>\n",
       "    </tr>\n",
       "    <tr>\n",
       "      <th>Segment</th>\n",
       "      <th></th>\n",
       "      <th></th>\n",
       "      <th></th>\n",
       "      <th></th>\n",
       "    </tr>\n",
       "  </thead>\n",
       "  <tbody>\n",
       "    <tr>\n",
       "      <th>Home Office</th>\n",
       "      <td>1770</td>\n",
       "      <td>33.818664</td>\n",
       "      <td>3919.9888</td>\n",
       "      <td>-3399.9800</td>\n",
       "    </tr>\n",
       "    <tr>\n",
       "      <th>Corporate</th>\n",
       "      <td>3003</td>\n",
       "      <td>30.456667</td>\n",
       "      <td>8399.9760</td>\n",
       "      <td>-3839.9904</td>\n",
       "    </tr>\n",
       "    <tr>\n",
       "      <th>Consumer</th>\n",
       "      <td>5156</td>\n",
       "      <td>25.836873</td>\n",
       "      <td>6719.9808</td>\n",
       "      <td>-6599.9780</td>\n",
       "    </tr>\n",
       "  </tbody>\n",
       "</table>\n",
       "</div>"
      ],
      "text/plain": [
       "             count_nonzero       mean       amax       amin\n",
       "Segment                                                    \n",
       "Home Office           1770  33.818664  3919.9888 -3399.9800\n",
       "Corporate             3003  30.456667  8399.9760 -3839.9904\n",
       "Consumer              5156  25.836873  6719.9808 -6599.9780"
      ]
     },
     "execution_count": 9,
     "metadata": {},
     "output_type": "execute_result"
    }
   ],
   "source": [
    "Segment_grouped['Profit'].agg([np.count_nonzero, np.mean,np.max, np.min]).sort_values(by = 'mean', ascending = False)\n"
   ]
  },
  {
   "cell_type": "code",
   "execution_count": 10,
   "id": "56c158f2",
   "metadata": {},
   "outputs": [],
   "source": [
    "                           #Interpretation\n",
    "\n",
    "# Likewise this, we need to look beyond average profit into variation of profitability (Maximum/minimum profit)"
   ]
  },
  {
   "cell_type": "code",
   "execution_count": 11,
   "id": "1724d5de",
   "metadata": {},
   "outputs": [
    {
     "data": {
      "text/html": [
       "<div>\n",
       "<style scoped>\n",
       "    .dataframe tbody tr th:only-of-type {\n",
       "        vertical-align: middle;\n",
       "    }\n",
       "\n",
       "    .dataframe tbody tr th {\n",
       "        vertical-align: top;\n",
       "    }\n",
       "\n",
       "    .dataframe thead th {\n",
       "        text-align: right;\n",
       "    }\n",
       "</style>\n",
       "<table border=\"1\" class=\"dataframe\">\n",
       "  <thead>\n",
       "    <tr style=\"text-align: right;\">\n",
       "      <th></th>\n",
       "      <th>count_nonzero</th>\n",
       "      <th>mean</th>\n",
       "      <th>amax</th>\n",
       "      <th>amin</th>\n",
       "    </tr>\n",
       "    <tr>\n",
       "      <th>City</th>\n",
       "      <th></th>\n",
       "      <th></th>\n",
       "      <th></th>\n",
       "      <th></th>\n",
       "    </tr>\n",
       "  </thead>\n",
       "  <tbody>\n",
       "    <tr>\n",
       "      <th>Bethlehem</th>\n",
       "      <td>5</td>\n",
       "      <td>-200.619160</td>\n",
       "      <td>0.7110</td>\n",
       "      <td>-913.1760</td>\n",
       "    </tr>\n",
       "    <tr>\n",
       "      <th>Champaign</th>\n",
       "      <td>1</td>\n",
       "      <td>-182.352000</td>\n",
       "      <td>-182.3520</td>\n",
       "      <td>-182.3520</td>\n",
       "    </tr>\n",
       "    <tr>\n",
       "      <th>Oswego</th>\n",
       "      <td>3</td>\n",
       "      <td>-178.709200</td>\n",
       "      <td>4.1125</td>\n",
       "      <td>-533.7325</td>\n",
       "    </tr>\n",
       "    <tr>\n",
       "      <th>Round Rock</th>\n",
       "      <td>7</td>\n",
       "      <td>-169.061614</td>\n",
       "      <td>32.3982</td>\n",
       "      <td>-786.0144</td>\n",
       "    </tr>\n",
       "    <tr>\n",
       "      <th>Lancaster</th>\n",
       "      <td>45</td>\n",
       "      <td>-157.371052</td>\n",
       "      <td>83.2097</td>\n",
       "      <td>-6599.9780</td>\n",
       "    </tr>\n",
       "    <tr>\n",
       "      <th>...</th>\n",
       "      <td>...</td>\n",
       "      <td>...</td>\n",
       "      <td>...</td>\n",
       "      <td>...</td>\n",
       "    </tr>\n",
       "    <tr>\n",
       "      <th>Appleton</th>\n",
       "      <td>2</td>\n",
       "      <td>277.383150</td>\n",
       "      <td>544.4175</td>\n",
       "      <td>10.3488</td>\n",
       "    </tr>\n",
       "    <tr>\n",
       "      <th>Minneapolis</th>\n",
       "      <td>22</td>\n",
       "      <td>296.721070</td>\n",
       "      <td>4630.4755</td>\n",
       "      <td>0.0000</td>\n",
       "    </tr>\n",
       "    <tr>\n",
       "      <th>Lafayette</th>\n",
       "      <td>30</td>\n",
       "      <td>323.173794</td>\n",
       "      <td>8399.9760</td>\n",
       "      <td>0.0000</td>\n",
       "    </tr>\n",
       "    <tr>\n",
       "      <th>Independence</th>\n",
       "      <td>2</td>\n",
       "      <td>487.831500</td>\n",
       "      <td>757.4112</td>\n",
       "      <td>218.2518</td>\n",
       "    </tr>\n",
       "    <tr>\n",
       "      <th>Jamestown</th>\n",
       "      <td>2</td>\n",
       "      <td>642.885750</td>\n",
       "      <td>1228.1787</td>\n",
       "      <td>57.5928</td>\n",
       "    </tr>\n",
       "  </tbody>\n",
       "</table>\n",
       "<p>531 rows × 4 columns</p>\n",
       "</div>"
      ],
      "text/plain": [
       "              count_nonzero        mean       amax       amin\n",
       "City                                                         \n",
       "Bethlehem                 5 -200.619160     0.7110  -913.1760\n",
       "Champaign                 1 -182.352000  -182.3520  -182.3520\n",
       "Oswego                    3 -178.709200     4.1125  -533.7325\n",
       "Round Rock                7 -169.061614    32.3982  -786.0144\n",
       "Lancaster                45 -157.371052    83.2097 -6599.9780\n",
       "...                     ...         ...        ...        ...\n",
       "Appleton                  2  277.383150   544.4175    10.3488\n",
       "Minneapolis              22  296.721070  4630.4755     0.0000\n",
       "Lafayette                30  323.173794  8399.9760     0.0000\n",
       "Independence              2  487.831500   757.4112   218.2518\n",
       "Jamestown                 2  642.885750  1228.1787    57.5928\n",
       "\n",
       "[531 rows x 4 columns]"
      ]
     },
     "execution_count": 11,
     "metadata": {},
     "output_type": "execute_result"
    }
   ],
   "source": [
    "pd.set_option('max_rows', 10)\n",
    "\n",
    "City_grouped['Profit'].agg([np.count_nonzero, np.mean,np.max, np.min]).sort_values(by = 'mean', ascending = True)\n",
    "\n",
    "\n"
   ]
  },
  {
   "cell_type": "code",
   "execution_count": 12,
   "id": "04ee2b1d",
   "metadata": {},
   "outputs": [],
   "source": [
    "                               #Interpretation\n",
    "\n",
    "# Cities such as Bethlehem, Champaign, Oswego and so on need to be improved on profit-wise!\n",
    "\n",
    "# I had put my investment in cities such as Minneapolis, Lafayette if I certainly don't want to make a loss"
   ]
  },
  {
   "cell_type": "code",
   "execution_count": 13,
   "id": "551dbb6e",
   "metadata": {},
   "outputs": [
    {
     "data": {
      "text/html": [
       "<div>\n",
       "<style scoped>\n",
       "    .dataframe tbody tr th:only-of-type {\n",
       "        vertical-align: middle;\n",
       "    }\n",
       "\n",
       "    .dataframe tbody tr th {\n",
       "        vertical-align: top;\n",
       "    }\n",
       "\n",
       "    .dataframe thead th {\n",
       "        text-align: right;\n",
       "    }\n",
       "</style>\n",
       "<table border=\"1\" class=\"dataframe\">\n",
       "  <thead>\n",
       "    <tr style=\"text-align: right;\">\n",
       "      <th></th>\n",
       "      <th>count_nonzero</th>\n",
       "      <th>mean</th>\n",
       "      <th>amax</th>\n",
       "      <th>amin</th>\n",
       "    </tr>\n",
       "    <tr>\n",
       "      <th>State</th>\n",
       "      <th></th>\n",
       "      <th></th>\n",
       "      <th></th>\n",
       "      <th></th>\n",
       "    </tr>\n",
       "  </thead>\n",
       "  <tbody>\n",
       "    <tr>\n",
       "      <th>Ohio</th>\n",
       "      <td>467</td>\n",
       "      <td>-36.186304</td>\n",
       "      <td>607.6080</td>\n",
       "      <td>-6599.9780</td>\n",
       "    </tr>\n",
       "    <tr>\n",
       "      <th>Colorado</th>\n",
       "      <td>180</td>\n",
       "      <td>-35.867351</td>\n",
       "      <td>247.9960</td>\n",
       "      <td>-3399.9800</td>\n",
       "    </tr>\n",
       "    <tr>\n",
       "      <th>North Carolina</th>\n",
       "      <td>248</td>\n",
       "      <td>-30.083985</td>\n",
       "      <td>303.8040</td>\n",
       "      <td>-3839.9904</td>\n",
       "    </tr>\n",
       "    <tr>\n",
       "      <th>Tennessee</th>\n",
       "      <td>182</td>\n",
       "      <td>-29.189583</td>\n",
       "      <td>223.9936</td>\n",
       "      <td>-1237.8462</td>\n",
       "    </tr>\n",
       "    <tr>\n",
       "      <th>Pennsylvania</th>\n",
       "      <td>581</td>\n",
       "      <td>-26.507598</td>\n",
       "      <td>1119.9968</td>\n",
       "      <td>-1665.0522</td>\n",
       "    </tr>\n",
       "    <tr>\n",
       "      <th>...</th>\n",
       "      <td>...</td>\n",
       "      <td>...</td>\n",
       "      <td>...</td>\n",
       "      <td>...</td>\n",
       "    </tr>\n",
       "    <tr>\n",
       "      <th>Minnesota</th>\n",
       "      <td>88</td>\n",
       "      <td>121.608847</td>\n",
       "      <td>4630.4755</td>\n",
       "      <td>0.0000</td>\n",
       "    </tr>\n",
       "    <tr>\n",
       "      <th>Montana</th>\n",
       "      <td>15</td>\n",
       "      <td>122.221900</td>\n",
       "      <td>1379.9770</td>\n",
       "      <td>2.2098</td>\n",
       "    </tr>\n",
       "    <tr>\n",
       "      <th>Indiana</th>\n",
       "      <td>148</td>\n",
       "      <td>123.375411</td>\n",
       "      <td>8399.9760</td>\n",
       "      <td>0.0000</td>\n",
       "    </tr>\n",
       "    <tr>\n",
       "      <th>Rhode Island</th>\n",
       "      <td>56</td>\n",
       "      <td>130.100523</td>\n",
       "      <td>2591.9568</td>\n",
       "      <td>-127.5792</td>\n",
       "    </tr>\n",
       "    <tr>\n",
       "      <th>Vermont</th>\n",
       "      <td>11</td>\n",
       "      <td>204.088936</td>\n",
       "      <td>1013.1270</td>\n",
       "      <td>0.9588</td>\n",
       "    </tr>\n",
       "  </tbody>\n",
       "</table>\n",
       "<p>49 rows × 4 columns</p>\n",
       "</div>"
      ],
      "text/plain": [
       "                count_nonzero        mean       amax       amin\n",
       "State                                                          \n",
       "Ohio                      467  -36.186304   607.6080 -6599.9780\n",
       "Colorado                  180  -35.867351   247.9960 -3399.9800\n",
       "North Carolina            248  -30.083985   303.8040 -3839.9904\n",
       "Tennessee                 182  -29.189583   223.9936 -1237.8462\n",
       "Pennsylvania              581  -26.507598  1119.9968 -1665.0522\n",
       "...                       ...         ...        ...        ...\n",
       "Minnesota                  88  121.608847  4630.4755     0.0000\n",
       "Montana                    15  122.221900  1379.9770     2.2098\n",
       "Indiana                   148  123.375411  8399.9760     0.0000\n",
       "Rhode Island               56  130.100523  2591.9568  -127.5792\n",
       "Vermont                    11  204.088936  1013.1270     0.9588\n",
       "\n",
       "[49 rows x 4 columns]"
      ]
     },
     "execution_count": 13,
     "metadata": {},
     "output_type": "execute_result"
    }
   ],
   "source": [
    "pd.set_option('max_rows', 10)\n",
    "\n",
    "State_grouped['Profit'].agg([np.count_nonzero, np.mean,np.max, np.min]).sort_values(by = 'mean', ascending = True)\n",
    "\n"
   ]
  },
  {
   "cell_type": "code",
   "execution_count": 14,
   "id": "37b400e1",
   "metadata": {},
   "outputs": [],
   "source": [
    "                            #Interpretation\n",
    "\n",
    "# While the average profits for States like Vermont, Rhode Island, Indiana and the likes seems decent,\n",
    "# More improvement needed for States like Ohio, Colorado, North Carolina and so on.\n",
    "\n",
    "# Also Sales in States with the high average profits seems low; an area for improvement\n",
    "\n",
    "\n",
    "# A business manager/investor with a low risk appetite might want to deplore resources \n",
    "# to States like Minnesota and Indiana, as you are less likely to make a loss."
   ]
  },
  {
   "cell_type": "code",
   "execution_count": 15,
   "id": "f0d83e47",
   "metadata": {},
   "outputs": [
    {
     "data": {
      "text/html": [
       "<div>\n",
       "<style scoped>\n",
       "    .dataframe tbody tr th:only-of-type {\n",
       "        vertical-align: middle;\n",
       "    }\n",
       "\n",
       "    .dataframe tbody tr th {\n",
       "        vertical-align: top;\n",
       "    }\n",
       "\n",
       "    .dataframe thead th {\n",
       "        text-align: right;\n",
       "    }\n",
       "</style>\n",
       "<table border=\"1\" class=\"dataframe\">\n",
       "  <thead>\n",
       "    <tr style=\"text-align: right;\">\n",
       "      <th></th>\n",
       "      <th>count_nonzero</th>\n",
       "      <th>mean</th>\n",
       "      <th>amax</th>\n",
       "      <th>amin</th>\n",
       "    </tr>\n",
       "    <tr>\n",
       "      <th>Region</th>\n",
       "      <th></th>\n",
       "      <th></th>\n",
       "      <th></th>\n",
       "      <th></th>\n",
       "    </tr>\n",
       "  </thead>\n",
       "  <tbody>\n",
       "    <tr>\n",
       "      <th>West</th>\n",
       "      <td>3181</td>\n",
       "      <td>33.849032</td>\n",
       "      <td>6719.9808</td>\n",
       "      <td>-3399.9800</td>\n",
       "    </tr>\n",
       "    <tr>\n",
       "      <th>East</th>\n",
       "      <td>2829</td>\n",
       "      <td>32.135808</td>\n",
       "      <td>5039.9856</td>\n",
       "      <td>-6599.9780</td>\n",
       "    </tr>\n",
       "    <tr>\n",
       "      <th>South</th>\n",
       "      <td>1607</td>\n",
       "      <td>28.857673</td>\n",
       "      <td>3177.4750</td>\n",
       "      <td>-3839.9904</td>\n",
       "    </tr>\n",
       "    <tr>\n",
       "      <th>Central</th>\n",
       "      <td>2312</td>\n",
       "      <td>17.092709</td>\n",
       "      <td>8399.9760</td>\n",
       "      <td>-3701.8928</td>\n",
       "    </tr>\n",
       "  </tbody>\n",
       "</table>\n",
       "</div>"
      ],
      "text/plain": [
       "         count_nonzero       mean       amax       amin\n",
       "Region                                                 \n",
       "West              3181  33.849032  6719.9808 -3399.9800\n",
       "East              2829  32.135808  5039.9856 -6599.9780\n",
       "South             1607  28.857673  3177.4750 -3839.9904\n",
       "Central           2312  17.092709  8399.9760 -3701.8928"
      ]
     },
     "execution_count": 15,
     "metadata": {},
     "output_type": "execute_result"
    }
   ],
   "source": [
    "pd.set_option('max_rows', 10)\n",
    "\n",
    "Region_grouped['Profit'].agg([np.count_nonzero, np.mean,np.max, np.min]).sort_values(by = 'mean', ascending = False)\n",
    "\n"
   ]
  },
  {
   "cell_type": "code",
   "execution_count": null,
   "id": "df863eb6",
   "metadata": {},
   "outputs": [],
   "source": []
  },
  {
   "cell_type": "code",
   "execution_count": 16,
   "id": "f04c00ec",
   "metadata": {},
   "outputs": [
    {
     "data": {
      "text/html": [
       "<div>\n",
       "<style scoped>\n",
       "    .dataframe tbody tr th:only-of-type {\n",
       "        vertical-align: middle;\n",
       "    }\n",
       "\n",
       "    .dataframe tbody tr th {\n",
       "        vertical-align: top;\n",
       "    }\n",
       "\n",
       "    .dataframe thead th {\n",
       "        text-align: right;\n",
       "    }\n",
       "</style>\n",
       "<table border=\"1\" class=\"dataframe\">\n",
       "  <thead>\n",
       "    <tr style=\"text-align: right;\">\n",
       "      <th></th>\n",
       "      <th>count_nonzero</th>\n",
       "      <th>mean</th>\n",
       "      <th>amax</th>\n",
       "      <th>amin</th>\n",
       "    </tr>\n",
       "    <tr>\n",
       "      <th>Category</th>\n",
       "      <th></th>\n",
       "      <th></th>\n",
       "      <th></th>\n",
       "      <th></th>\n",
       "    </tr>\n",
       "  </thead>\n",
       "  <tbody>\n",
       "    <tr>\n",
       "      <th>Office Supplies</th>\n",
       "      <td>5997</td>\n",
       "      <td>5.819061</td>\n",
       "      <td>926.0951</td>\n",
       "      <td>-585.8969</td>\n",
       "    </tr>\n",
       "    <tr>\n",
       "      <th>Furniture</th>\n",
       "      <td>2088</td>\n",
       "      <td>1.935615</td>\n",
       "      <td>202.6254</td>\n",
       "      <td>-237.8646</td>\n",
       "    </tr>\n",
       "    <tr>\n",
       "      <th>Technology</th>\n",
       "      <td>1844</td>\n",
       "      <td>20.993948</td>\n",
       "      <td>1679.9952</td>\n",
       "      <td>-1319.9956</td>\n",
       "    </tr>\n",
       "  </tbody>\n",
       "</table>\n",
       "</div>"
      ],
      "text/plain": [
       "                 count_nonzero       mean       amax       amin\n",
       "Category                                                       \n",
       "Office Supplies           5997   5.819061   926.0951  -585.8969\n",
       "Furniture                 2088   1.935615   202.6254  -237.8646\n",
       "Technology                1844  20.993948  1679.9952 -1319.9956"
      ]
     },
     "execution_count": 16,
     "metadata": {},
     "output_type": "execute_result"
    }
   ],
   "source": [
    "pd.set_option('max_rows', 10)\n",
    "\n",
    "Category_grouped['Profit_perQuantity'].agg([np.count_nonzero, np.mean,np.max, np.min]).sort_values(by = 'count_nonzero', ascending = False)\n",
    "\n"
   ]
  },
  {
   "cell_type": "code",
   "execution_count": 17,
   "id": "7c22bbc3",
   "metadata": {},
   "outputs": [],
   "source": [
    "                #Interpretation\n",
    "\n",
    "# Investing in the technology product is profitable as\\ \n",
    "# indicated in the average and maximum profit per product sales\\\n",
    "\n",
    "# But the technology sector also comes with the greatest risk \n",
    "# in terms of the extent of loss per product sale (-1320)\n",
    "\n",
    "# An business manager/investor with a low risk appetite should focus on Furniture sales!"
   ]
  },
  {
   "cell_type": "code",
   "execution_count": 18,
   "id": "15f0996a",
   "metadata": {},
   "outputs": [
    {
     "data": {
      "text/html": [
       "<div>\n",
       "<style scoped>\n",
       "    .dataframe tbody tr th:only-of-type {\n",
       "        vertical-align: middle;\n",
       "    }\n",
       "\n",
       "    .dataframe tbody tr th {\n",
       "        vertical-align: top;\n",
       "    }\n",
       "\n",
       "    .dataframe thead th {\n",
       "        text-align: right;\n",
       "    }\n",
       "</style>\n",
       "<table border=\"1\" class=\"dataframe\">\n",
       "  <thead>\n",
       "    <tr style=\"text-align: right;\">\n",
       "      <th></th>\n",
       "      <th>count_nonzero</th>\n",
       "      <th>mean</th>\n",
       "      <th>amax</th>\n",
       "      <th>amin</th>\n",
       "    </tr>\n",
       "    <tr>\n",
       "      <th>Sub-Category</th>\n",
       "      <th></th>\n",
       "      <th></th>\n",
       "      <th></th>\n",
       "      <th></th>\n",
       "    </tr>\n",
       "  </thead>\n",
       "  <tbody>\n",
       "    <tr>\n",
       "      <th>Fasteners</th>\n",
       "      <td>212</td>\n",
       "      <td>1.058296</td>\n",
       "      <td>5.3956</td>\n",
       "      <td>-1.4782</td>\n",
       "    </tr>\n",
       "    <tr>\n",
       "      <th>Art</th>\n",
       "      <td>796</td>\n",
       "      <td>2.111323</td>\n",
       "      <td>16.0820</td>\n",
       "      <td>0.0834</td>\n",
       "    </tr>\n",
       "    <tr>\n",
       "      <th>Labels</th>\n",
       "      <td>364</td>\n",
       "      <td>3.688775</td>\n",
       "      <td>48.1719</td>\n",
       "      <td>0.6786</td>\n",
       "    </tr>\n",
       "    <tr>\n",
       "      <th>Paper</th>\n",
       "      <td>1370</td>\n",
       "      <td>6.803805</td>\n",
       "      <td>50.3280</td>\n",
       "      <td>0.5886</td>\n",
       "    </tr>\n",
       "    <tr>\n",
       "      <th>Furnishings</th>\n",
       "      <td>948</td>\n",
       "      <td>3.547943</td>\n",
       "      <td>54.5584</td>\n",
       "      <td>-85.4900</td>\n",
       "    </tr>\n",
       "    <tr>\n",
       "      <th>...</th>\n",
       "      <td>...</td>\n",
       "      <td>...</td>\n",
       "      <td>...</td>\n",
       "      <td>...</td>\n",
       "    </tr>\n",
       "    <tr>\n",
       "      <th>Phones</th>\n",
       "      <td>887</td>\n",
       "      <td>13.826966</td>\n",
       "      <td>187.7970</td>\n",
       "      <td>-84.4779</td>\n",
       "    </tr>\n",
       "    <tr>\n",
       "      <th>Bookcases</th>\n",
       "      <td>226</td>\n",
       "      <td>-2.707413</td>\n",
       "      <td>202.6254</td>\n",
       "      <td>-237.8646</td>\n",
       "    </tr>\n",
       "    <tr>\n",
       "      <th>Binders</th>\n",
       "      <td>1523</td>\n",
       "      <td>7.211178</td>\n",
       "      <td>926.0951</td>\n",
       "      <td>-585.8969</td>\n",
       "    </tr>\n",
       "    <tr>\n",
       "      <th>Machines</th>\n",
       "      <td>115</td>\n",
       "      <td>5.435072</td>\n",
       "      <td>997.9950</td>\n",
       "      <td>-1319.9956</td>\n",
       "    </tr>\n",
       "    <tr>\n",
       "      <th>Copiers</th>\n",
       "      <td>68</td>\n",
       "      <td>219.210450</td>\n",
       "      <td>1679.9952</td>\n",
       "      <td>13.9993</td>\n",
       "    </tr>\n",
       "  </tbody>\n",
       "</table>\n",
       "<p>17 rows × 4 columns</p>\n",
       "</div>"
      ],
      "text/plain": [
       "              count_nonzero        mean       amax       amin\n",
       "Sub-Category                                                 \n",
       "Fasteners               212    1.058296     5.3956    -1.4782\n",
       "Art                     796    2.111323    16.0820     0.0834\n",
       "Labels                  364    3.688775    48.1719     0.6786\n",
       "Paper                  1370    6.803805    50.3280     0.5886\n",
       "Furnishings             948    3.547943    54.5584   -85.4900\n",
       "...                     ...         ...        ...        ...\n",
       "Phones                  887   13.826966   187.7970   -84.4779\n",
       "Bookcases               226   -2.707413   202.6254  -237.8646\n",
       "Binders                1523    7.211178   926.0951  -585.8969\n",
       "Machines                115    5.435072   997.9950 -1319.9956\n",
       "Copiers                  68  219.210450  1679.9952    13.9993\n",
       "\n",
       "[17 rows x 4 columns]"
      ]
     },
     "execution_count": 18,
     "metadata": {},
     "output_type": "execute_result"
    }
   ],
   "source": [
    "pd.set_option('max_rows', 10)\n",
    "\n",
    "Subcategory_grouped['Profit_perQuantity'].agg([np.count_nonzero, np.mean,np.max, np.min]).sort_values(by = 'amax', ascending = True)\n",
    "\n"
   ]
  },
  {
   "cell_type": "code",
   "execution_count": 19,
   "id": "ef313cdb",
   "metadata": {},
   "outputs": [],
   "source": [
    "          #Interpretation\n",
    "    \n",
    "# As a Business manager, I will focus on products \n",
    "# generating on average the most profit per quantity sold (Copiers)!\n",
    "\n",
    "# Unfortunately just 68 copiers were sold compared to 212 fasteners sold that has the least profit per quantity!"
   ]
  },
  {
   "cell_type": "markdown",
   "id": "fc584e99",
   "metadata": {},
   "source": [
    "# Visualization of dataset"
   ]
  },
  {
   "cell_type": "code",
   "execution_count": null,
   "id": "0ea83d77",
   "metadata": {},
   "outputs": [],
   "source": []
  },
  {
   "cell_type": "code",
   "execution_count": 20,
   "id": "fe326b1d",
   "metadata": {},
   "outputs": [
    {
     "data": {
      "text/plain": [
       "<Figure size 1008x720 with 0 Axes>"
      ]
     },
     "execution_count": 20,
     "metadata": {},
     "output_type": "execute_result"
    },
    {
     "data": {
      "image/png": "[encoded data removed]",
      "text/plain": [
       "<Figure size 360x360 with 1 Axes>"
      ]
     },
     "metadata": {},
     "output_type": "display_data"
    },
    {
     "data": {
      "text/plain": [
       "<Figure size 1008x720 with 0 Axes>"
      ]
     },
     "metadata": {},
     "output_type": "display_data"
    }
   ],
   "source": [
    "sns.catplot(x= \"Ship Mode\", y = \"Profit\", kind = \"box\", data = superstore_data, hue = \"Ship Mode\" )\n",
    "\n",
    "plt.title(\"Profit distribution across shipping mode\")\n",
    "\n",
    "plt.figure(figsize = (14,10))"
   ]
  },
  {
   "cell_type": "code",
   "execution_count": 21,
   "id": "8977d9af",
   "metadata": {},
   "outputs": [],
   "source": [
    "# More predictability in the margin of profit when shippping by \"Same Day\" and \"Second Class\" Mode"
   ]
  },
  {
   "cell_type": "code",
   "execution_count": 22,
   "id": "b4277336",
   "metadata": {},
   "outputs": [
    {
     "data": {
      "text/plain": [
       "<Figure size 1008x720 with 0 Axes>"
      ]
     },
     "execution_count": 22,
     "metadata": {},
     "output_type": "execute_result"
    },
    {
     "data": {
      "image/png": "[encoded data removed]",
      "text/plain": [
       "<Figure size 360x360 with 1 Axes>"
      ]
     },
     "metadata": {},
     "output_type": "display_data"
    },
    {
     "data": {
      "text/plain": [
       "<Figure size 1008x720 with 0 Axes>"
      ]
     },
     "metadata": {},
     "output_type": "display_data"
    }
   ],
   "source": [
    "sns.catplot(x= \"Segment\", y = \"Profit\", kind = \"box\", data = superstore_data) #hue = \"Segment\" )\n",
    "\n",
    "plt.title(\"Profit distribution across end users segment\")\n",
    "\n",
    "plt.figure(figsize = (14,10))"
   ]
  },
  {
   "cell_type": "code",
   "execution_count": 23,
   "id": "f2597285",
   "metadata": {},
   "outputs": [
    {
     "data": {
      "text/plain": [
       "<Figure size 1440x720 with 0 Axes>"
      ]
     },
     "execution_count": 23,
     "metadata": {},
     "output_type": "execute_result"
    },
    {
     "data": {
      "image/png": "[encoded data removed]",
      "text/plain": [
       "<Figure size 460.6x360 with 1 Axes>"
      ]
     },
     "metadata": {},
     "output_type": "display_data"
    },
    {
     "data": {
      "text/plain": [
       "<Figure size 1440x720 with 0 Axes>"
      ]
     },
     "metadata": {},
     "output_type": "display_data"
    }
   ],
   "source": [
    "sns.lmplot(x = \"Sales\", y = \"Profit\", hue = \"Segment\", data = superstore_data)\n",
    "\n",
    "plt.title(\"Sales-Profit relationship segmented by End-Users\")\n",
    "\n",
    "plt.figure(figsize = (20,10))"
   ]
  },
  {
   "cell_type": "code",
   "execution_count": 24,
   "id": "cef44900",
   "metadata": {},
   "outputs": [],
   "source": [
    "                 #Interpretation\n",
    "# The consumer segment end users need to be improved on;\\\n",
    "# even though it shows glimpse of high outlier profits, \n",
    "# there seem to be a serious and consistent deep in losses\n",
    "\n",
    "\n",
    "# Also increasing sales to  Corporate end-users tend to yield the most profit!"
   ]
  },
  {
   "cell_type": "code",
   "execution_count": 25,
   "id": "0426b64f",
   "metadata": {},
   "outputs": [
    {
     "data": {
      "text/plain": [
       "<Figure size 1008x720 with 0 Axes>"
      ]
     },
     "execution_count": 25,
     "metadata": {},
     "output_type": "execute_result"
    },
    {
     "data": {
      "image/png": "[encoded data removed]",
      "text/plain": [
       "<Figure size 360x360 with 1 Axes>"
      ]
     },
     "metadata": {},
     "output_type": "display_data"
    },
    {
     "data": {
      "text/plain": [
       "<Figure size 1008x720 with 0 Axes>"
      ]
     },
     "metadata": {},
     "output_type": "display_data"
    }
   ],
   "source": [
    "sns.catplot(x= \"Region\", y = \"Profit\", kind = \"box\", data = superstore_data, hue = \"Region\")\n",
    "\n",
    "plt.title(\"Profit distribution across various regions\")\n",
    "\n",
    "plt.figure(figsize = (14,10))"
   ]
  },
  {
   "cell_type": "code",
   "execution_count": 26,
   "id": "b7761d17",
   "metadata": {},
   "outputs": [],
   "source": [
    "# As an investor, I will be discouraged in investing across the Central and South region!"
   ]
  },
  {
   "cell_type": "code",
   "execution_count": 27,
   "id": "facff456",
   "metadata": {},
   "outputs": [
    {
     "data": {
      "text/plain": [
       "<Figure size 1008x720 with 0 Axes>"
      ]
     },
     "execution_count": 27,
     "metadata": {},
     "output_type": "execute_result"
    },
    {
     "data": {
      "image/png": "[encoded data removed]",
      "text/plain": [
       "<Figure size 360x360 with 1 Axes>"
      ]
     },
     "metadata": {},
     "output_type": "display_data"
    },
    {
     "data": {
      "text/plain": [
       "<Figure size 1008x720 with 0 Axes>"
      ]
     },
     "metadata": {},
     "output_type": "display_data"
    }
   ],
   "source": [
    "sns.catplot(x= \"Category\", y = \"Profit\", kind = \"box\", data = superstore_data, hue = \"Category\")\n",
    "\n",
    "plt.title(\"Profit distribution across product categories\")\n",
    "\n",
    "plt.figure(figsize = (14,10))"
   ]
  },
  {
   "cell_type": "code",
   "execution_count": 28,
   "id": "a0299579",
   "metadata": {
    "scrolled": true
   },
   "outputs": [
    {
     "data": {
      "text/plain": [
       "<Figure size 1008x720 with 0 Axes>"
      ]
     },
     "execution_count": 28,
     "metadata": {},
     "output_type": "execute_result"
    },
    {
     "data": {
      "image/png": "[encoded data removed]",
      "text/plain": [
       "<Figure size 473.475x360 with 1 Axes>"
      ]
     },
     "metadata": {},
     "output_type": "display_data"
    },
    {
     "data": {
      "text/plain": [
       "<Figure size 1008x720 with 0 Axes>"
      ]
     },
     "metadata": {},
     "output_type": "display_data"
    }
   ],
   "source": [
    "sns.lmplot(x = \"Sales\", y = \"Profit\", hue = \"Category\", data = superstore_data)\n",
    "\n",
    "plt.title(\"Sales-Profit relationship by Product type\")\n",
    "\n",
    "plt.figure(figsize = (14,10))"
   ]
  },
  {
   "cell_type": "code",
   "execution_count": 29,
   "id": "31c67bb0",
   "metadata": {},
   "outputs": [],
   "source": [
    "                 #Interpretation\n",
    "# Relatively, Technology seems to be doing pretty much better\\\n",
    "# but I had still say we need to make all product categories more profitable!\n",
    "\n",
    "# Also increasing Sales of Furniture product does not necessarily translate to an increase in profit,\\\n",
    "# unlike Office Supplies with the sharpest slope  .\n",
    "\n"
   ]
  },
  {
   "cell_type": "code",
   "execution_count": 38,
   "id": "8cd9c980",
   "metadata": {},
   "outputs": [
    {
     "data": {
      "text/plain": [
       "<Figure size 1008x720 with 0 Axes>"
      ]
     },
     "execution_count": 38,
     "metadata": {},
     "output_type": "execute_result"
    },
    {
     "data": {
      "image/png": "[encoded data removed]",
      "text/plain": [
       "<Figure size 432x432 with 3 Axes>"
      ]
     },
     "metadata": {},
     "output_type": "display_data"
    },
    {
     "data": {
      "text/plain": [
       "<Figure size 1008x720 with 0 Axes>"
      ]
     },
     "metadata": {},
     "output_type": "display_data"
    }
   ],
   "source": [
    "sns.jointplot(x = \"Discount\", y = \"Profit\", data = superstore_data, color= \"red\")\n",
    "\n",
    "plt.figure(figsize = (14,10))\n",
    "\n"
   ]
  },
  {
   "cell_type": "code",
   "execution_count": 39,
   "id": "34fd482a",
   "metadata": {},
   "outputs": [
    {
     "data": {
      "text/plain": [
       "<Figure size 1008x720 with 0 Axes>"
      ]
     },
     "execution_count": 39,
     "metadata": {},
     "output_type": "execute_result"
    },
    {
     "data": {
      "image/png": "[encoded data removed]",
      "text/plain": [
       "<Figure size 432x432 with 3 Axes>"
      ]
     },
     "metadata": {},
     "output_type": "display_data"
    },
    {
     "data": {
      "text/plain": [
       "<Figure size 1008x720 with 0 Axes>"
      ]
     },
     "metadata": {},
     "output_type": "display_data"
    }
   ],
   "source": [
    "sns.jointplot(x = \"Discount\", y = \"Sales\", data = superstore_data, color= \"red\")\n",
    "\n",
    "plt.figure(figsize = (14,10))\n"
   ]
  },
  {
   "cell_type": "code",
   "execution_count": null,
   "id": "4ca2161d",
   "metadata": {},
   "outputs": [],
   "source": [
    "# The concept of discounting is not adding anything meaningful to profitability or sales"
   ]
  }
 ],
 "metadata": {
  "kernelspec": {
   "display_name": "Python 3 (ipykernel)",
   "language": "python",
   "name": "python3"
  },
  "language_info": {
   "codemirror_mode": {
    "name": "ipython",
    "version": 3
   },
   "file_extension": ".py",
   "mimetype": "text/x-python",
   "name": "python",
   "nbconvert_exporter": "python",
   "pygments_lexer": "ipython3",
   "version": "3.9.7"
  }
 },
 "nbformat": 4,
 "nbformat_minor": 5
}
